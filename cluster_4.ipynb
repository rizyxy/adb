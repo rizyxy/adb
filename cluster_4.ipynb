{
 "cells": [
  {
   "cell_type": "code",
   "execution_count": 1,
   "metadata": {},
   "outputs": [
    {
     "name": "stdout",
     "output_type": "stream",
     "text": [
      "   satisfaction_level  last_evaluation  number_project  average_montly_hours  \\\n",
      "0                0.10             0.77               6                   247   \n",
      "1                0.11             0.81               6                   305   \n",
      "2                0.11             0.83               6                   282   \n",
      "3                0.09             0.95               6                   304   \n",
      "4                0.09             0.62               6                   294   \n",
      "\n",
      "   time_spend_company  Work_accident  left  promotion_last_5years  sales  \\\n",
      "0                   4              0     1                      0      7   \n",
      "1                   4              0     1                      0      7   \n",
      "2                   4              0     1                      0      7   \n",
      "3                   4              0     1                      0      7   \n",
      "4                   4              0     1                      0      2   \n",
      "\n",
      "   salary  cluster  \n",
      "0       1        3  \n",
      "1       1        3  \n",
      "2       1        3  \n",
      "3       1        3  \n",
      "4       1        3  \n"
     ]
    }
   ],
   "source": [
    "import pandas as pd\n",
    "\n",
    "dataset = pd.read_csv('cluster_3.csv')\n",
    "print(dataset.head())"
   ]
  },
  {
   "cell_type": "code",
   "execution_count": 2,
   "metadata": {},
   "outputs": [
    {
     "name": "stdout",
     "output_type": "stream",
     "text": [
      "   satisfaction_level  last_evaluation  number_project  average_montly_hours  \\\n",
      "0            0.018519         0.640625            0.75              0.705607   \n",
      "1            0.037037         0.703125            0.75              0.976636   \n",
      "2            0.037037         0.734375            0.75              0.869159   \n",
      "3            0.000000         0.921875            0.75              0.971963   \n",
      "4            0.000000         0.406250            0.75              0.925234   \n",
      "\n",
      "   time_spend_company  Work_accident  left  promotion_last_5years  sales  \\\n",
      "0            0.333333              0     1                      0      7   \n",
      "1            0.333333              0     1                      0      7   \n",
      "2            0.333333              0     1                      0      7   \n",
      "3            0.333333              0     1                      0      7   \n",
      "4            0.333333              0     1                      0      2   \n",
      "\n",
      "   salary  cluster  \n",
      "0       1        3  \n",
      "1       1        3  \n",
      "2       1        3  \n",
      "3       1        3  \n",
      "4       1        3  \n"
     ]
    }
   ],
   "source": [
    "from sklearn.preprocessing import MinMaxScaler\n",
    "\n",
    "scaler = MinMaxScaler()\n",
    "\n",
    "dataset[dataset.drop(['cluster', 'salary', 'sales', 'promotion_last_5years', 'left', 'Work_accident'], axis=1).columns] = scaler.fit_transform(\n",
    "    dataset[dataset.drop(['cluster', 'salary', 'sales', 'promotion_last_5years', 'left', 'Work_accident'], axis=1).columns]\n",
    ")\n",
    "\n",
    "print(dataset.head())"
   ]
  },
  {
   "cell_type": "code",
   "execution_count": null,
   "metadata": {},
   "outputs": [],
   "source": [
    "import seaborn as sns\n",
    "import matplotlib.pyplot as plt\n",
    "\n",
    "correlation_matrix = dataset.corr()\n",
    "\n",
    "plt.figure(figsize=(8, 6))\n",
    "sns.heatmap(correlation_matrix, annot=True, fmt=\".2f\", cmap=\"coolwarm\", vmin=-1, vmax=1)\n",
    "plt.title(\"Correlation Matrix\")\n",
    "plt.show()"
   ]
  },
  {
   "cell_type": "code",
   "execution_count": 3,
   "metadata": {},
   "outputs": [],
   "source": [
    "x = dataset.drop(['left', 'cluster'], axis=1)\n",
    "y = dataset['left']"
   ]
  },
  {
   "cell_type": "code",
   "execution_count": 4,
   "metadata": {},
   "outputs": [],
   "source": [
    "from sklearn.model_selection import train_test_split\n",
    "\n",
    "x_train, x_test, y_train, y_test = train_test_split(x, y, test_size=0.2, random_state=42)"
   ]
  },
  {
   "cell_type": "code",
   "execution_count": 5,
   "metadata": {},
   "outputs": [
    {
     "name": "stdout",
     "output_type": "stream",
     "text": [
      "KNN Results:\n",
      "Accuracy: 0.8652173913043478\n",
      "Recall: 0.8571428571428571\n"
     ]
    }
   ],
   "source": [
    "from sklearn.neighbors import KNeighborsClassifier\n",
    "from sklearn.metrics import accuracy_score, recall_score\n",
    "\n",
    "knn_model = KNeighborsClassifier()\n",
    "knn_model.fit(x_train, y_train)\n",
    "\n",
    "y_pred_knn = knn_model.predict(x_test)\n",
    "\n",
    "print(f'KNN Results:\\nAccuracy: {accuracy_score(y_test, y_pred_knn)}\\nRecall: {recall_score(y_test, y_pred_knn)}')"
   ]
  },
  {
   "cell_type": "code",
   "execution_count": 6,
   "metadata": {},
   "outputs": [
    {
     "name": "stdout",
     "output_type": "stream",
     "text": [
      "SVM Results:\n",
      "Accuracy: 0.9260869565217391\n",
      "Recall: 0.8809523809523809\n"
     ]
    }
   ],
   "source": [
    "from sklearn.svm import SVC\n",
    "from sklearn.metrics import accuracy_score, recall_score\n",
    "\n",
    "svm = SVC(kernel='linear')\n",
    "svm.fit(x_train, y_train)\n",
    "\n",
    "y_pred_svm = svm.predict(x_test)\n",
    "\n",
    "print(f'SVM Results:\\nAccuracy: {accuracy_score(y_test, y_pred_svm)}\\nRecall: {recall_score(y_test, y_pred_svm)}')"
   ]
  },
  {
   "cell_type": "code",
   "execution_count": 7,
   "metadata": {},
   "outputs": [
    {
     "name": "stdout",
     "output_type": "stream",
     "text": [
      "NB Results:\n",
      "Accuracy: 0.8782608695652174\n",
      "Recall: 0.8095238095238095\n"
     ]
    }
   ],
   "source": [
    "from sklearn.naive_bayes import GaussianNB\n",
    "from sklearn.metrics import accuracy_score, recall_score\n",
    "\n",
    "# Naive Bayes model\n",
    "nb = GaussianNB()\n",
    "nb.fit(x_train, y_train)\n",
    "\n",
    "# Predictions\n",
    "y_pred_nb = nb.predict(x_test)\n",
    "\n",
    "print(f'NB Results:\\nAccuracy: {accuracy_score(y_test, y_pred_nb)}\\nRecall: {recall_score(y_test, y_pred_nb)}')"
   ]
  },
  {
   "cell_type": "code",
   "execution_count": 8,
   "metadata": {},
   "outputs": [],
   "source": [
    "from tensorflow.keras.models import Sequential\n",
    "from tensorflow.keras.layers import Dense\n",
    "from tensorflow.keras.optimizers import Adam\n",
    "\n",
    "def create_ann(units, activation, optimizer, learning_rate, batch_size, weight_decay, hidden_layers):\n",
    "    model = Sequential()\n",
    "    \n",
    "    # Add first hidden layer\n",
    "    model.add(Dense(units=units, activation=activation, input_dim=x_train.shape[1]))\n",
    "    \n",
    "    # Add additional hidden layers\n",
    "    for _ in range(hidden_layers - 1):\n",
    "        model.add(Dense(units=units, activation=activation))\n",
    "    \n",
    "    # Output layer\n",
    "    model.add(Dense(1, activation='sigmoid'))  # For binary classification\n",
    "    \n",
    "    # Compile the model\n",
    "    optimizer_instance = Adam(learning_rate=learning_rate)\n",
    "    model.compile(optimizer=optimizer_instance, loss='binary_crossentropy', metrics=['accuracy'])\n",
    "    \n",
    "    return model"
   ]
  },
  {
   "cell_type": "code",
   "execution_count": 9,
   "metadata": {},
   "outputs": [
    {
     "name": "stderr",
     "output_type": "stream",
     "text": [
      "c:\\Python310\\lib\\site-packages\\keras\\src\\layers\\core\\dense.py:87: UserWarning: Do not pass an `input_shape`/`input_dim` argument to a layer. When using Sequential models, prefer using an `Input(shape)` object as the first layer in the model instead.\n",
      "  super().__init__(activity_regularizer=activity_regularizer, **kwargs)\n"
     ]
    }
   ],
   "source": [
    "params = {'units': 32, 'activation': 'relu', 'optimizer': 'adam', 'learning_rate': 0.005127, \n",
    "                  'batch_size': 32, 'weight_decay': 0.000027, 'hidden_layers': 5, 'epochs': 150}\n",
    "\n",
    "model = create_ann(\n",
    "        units=params['units'],\n",
    "        activation=params['activation'],\n",
    "        optimizer=params['optimizer'],\n",
    "        learning_rate=params['learning_rate'],\n",
    "        batch_size=params['batch_size'],\n",
    "        weight_decay=params['weight_decay'],\n",
    "        hidden_layers=params['hidden_layers']\n",
    "    )"
   ]
  },
  {
   "cell_type": "code",
   "execution_count": 10,
   "metadata": {},
   "outputs": [
    {
     "data": {
      "text/plain": [
       "<keras.src.callbacks.history.History at 0x2841d0edf00>"
      ]
     },
     "execution_count": 10,
     "metadata": {},
     "output_type": "execute_result"
    }
   ],
   "source": [
    "model.fit(x_train, y_train, epochs=params['epochs'], batch_size=params['batch_size'], verbose=0)"
   ]
  },
  {
   "cell_type": "code",
   "execution_count": 11,
   "metadata": {},
   "outputs": [
    {
     "name": "stdout",
     "output_type": "stream",
     "text": [
      "\u001b[1m8/8\u001b[0m \u001b[32m━━━━━━━━━━━━━━━━━━━━\u001b[0m\u001b[37m\u001b[0m \u001b[1m0s\u001b[0m 7ms/step\n"
     ]
    }
   ],
   "source": [
    "# Evaluate the model on the test data\n",
    "y_pred = model.predict(x_test)\n",
    "y_pred = (y_pred > 0.5).astype(int)  # Convert predictions to binary labels"
   ]
  },
  {
   "cell_type": "code",
   "execution_count": 12,
   "metadata": {},
   "outputs": [
    {
     "name": "stdout",
     "output_type": "stream",
     "text": [
      "\n",
      "Results:\n",
      "Accuracy: 0.9391304347826087\n",
      "Classification Report:\n",
      "              precision    recall  f1-score   support\n",
      "\n",
      "           0       0.89      0.99      0.94       104\n",
      "           1       0.99      0.90      0.94       126\n",
      "\n",
      "    accuracy                           0.94       230\n",
      "   macro avg       0.94      0.94      0.94       230\n",
      "weighted avg       0.94      0.94      0.94       230\n",
      "\n"
     ]
    }
   ],
   "source": [
    "from sklearn.metrics import accuracy_score, classification_report\n",
    "\n",
    "accuracy = accuracy_score(y_test, y_pred)\n",
    "classification_rep = classification_report(y_test, y_pred)\n",
    "\n",
    "print(f\"\\nResults:\")\n",
    "print(f\"Accuracy: {accuracy}\")\n",
    "print(f\"Classification Report:\\n{classification_rep}\")"
   ]
  },
  {
   "cell_type": "code",
   "execution_count": 13,
   "metadata": {},
   "outputs": [],
   "source": [
    "from imblearn.over_sampling import SMOTE\n",
    "\n",
    "# Apply SMOTE for class imbalance (if necessary)\n",
    "smote = SMOTE(random_state=42)\n",
    "x_resampled, y_resampled = smote.fit_resample(x, y)\n",
    "\n",
    "# Create DataFrames with consistent indices\n",
    "x_resampled_df = pd.DataFrame(x_resampled, columns=x.columns)  # Resampled features\n",
    "y_resampled_df = pd.Series(y_resampled, name='left')  # Resampled target\n",
    "\n",
    "# Combine the resampled features and target\n",
    "augmented_dataset = pd.concat([x_resampled_df, y_resampled_df], axis=1)"
   ]
  },
  {
   "cell_type": "code",
   "execution_count": 14,
   "metadata": {},
   "outputs": [
    {
     "name": "stdout",
     "output_type": "stream",
     "text": [
      "      satisfaction_level  last_evaluation  number_project  \\\n",
      "left                                                        \n",
      "0                    593              593             593   \n",
      "1                    593              593             593   \n",
      "\n",
      "      average_montly_hours  time_spend_company  Work_accident  \\\n",
      "left                                                            \n",
      "0                      593                 593            593   \n",
      "1                      593                 593            593   \n",
      "\n",
      "      promotion_last_5years  sales  salary  \n",
      "left                                        \n",
      "0                       593    593     593  \n",
      "1                       593    593     593  \n"
     ]
    }
   ],
   "source": [
    "print(augmented_dataset.groupby('left').count())"
   ]
  },
  {
   "cell_type": "code",
   "execution_count": 15,
   "metadata": {},
   "outputs": [],
   "source": [
    "x = augmented_dataset.drop(['left'], axis=1)\n",
    "y = augmented_dataset['left']"
   ]
  },
  {
   "cell_type": "code",
   "execution_count": 16,
   "metadata": {},
   "outputs": [],
   "source": [
    "from sklearn.model_selection import train_test_split\n",
    "\n",
    "x_train, x_test, y_train, y_test = train_test_split(x, y, test_size=0.2, random_state=42)"
   ]
  },
  {
   "cell_type": "code",
   "execution_count": 17,
   "metadata": {},
   "outputs": [
    {
     "data": {
      "text/plain": [
       "<keras.src.callbacks.history.History at 0x2842161eb60>"
      ]
     },
     "execution_count": 17,
     "metadata": {},
     "output_type": "execute_result"
    }
   ],
   "source": [
    "model.fit(x_train, y_train, epochs=params['epochs'], batch_size=params['batch_size'], verbose=0)"
   ]
  },
  {
   "cell_type": "code",
   "execution_count": 18,
   "metadata": {},
   "outputs": [
    {
     "name": "stdout",
     "output_type": "stream",
     "text": [
      "\u001b[1m8/8\u001b[0m \u001b[32m━━━━━━━━━━━━━━━━━━━━\u001b[0m\u001b[37m\u001b[0m \u001b[1m0s\u001b[0m 861us/step\n"
     ]
    }
   ],
   "source": [
    "# Evaluate the model on the test data\n",
    "y_pred = model.predict(x_test)\n",
    "y_pred = (y_pred > 0.5).astype(int)  # Convert predictions to binary labels"
   ]
  },
  {
   "cell_type": "code",
   "execution_count": 19,
   "metadata": {},
   "outputs": [
    {
     "name": "stdout",
     "output_type": "stream",
     "text": [
      "\n",
      "Results After Augmentation:\n",
      "Accuracy: 0.9621848739495799\n",
      "Classification Report:\n",
      "              precision    recall  f1-score   support\n",
      "\n",
      "           0       0.95      0.98      0.96       121\n",
      "           1       0.97      0.95      0.96       117\n",
      "\n",
      "    accuracy                           0.96       238\n",
      "   macro avg       0.96      0.96      0.96       238\n",
      "weighted avg       0.96      0.96      0.96       238\n",
      "\n"
     ]
    }
   ],
   "source": [
    "accuracy = accuracy_score(y_test, y_pred)\n",
    "classification_rep = classification_report(y_test, y_pred)\n",
    "\n",
    "print(f\"\\nResults After Augmentation:\")\n",
    "print(f\"Accuracy: {accuracy}\")\n",
    "print(f\"Classification Report:\\n{classification_rep}\")"
   ]
  }
 ],
 "metadata": {
  "kernelspec": {
   "display_name": "Python 3",
   "language": "python",
   "name": "python3"
  },
  "language_info": {
   "codemirror_mode": {
    "name": "ipython",
    "version": 3
   },
   "file_extension": ".py",
   "mimetype": "text/x-python",
   "name": "python",
   "nbconvert_exporter": "python",
   "pygments_lexer": "ipython3",
   "version": "3.10.0"
  },
  "orig_nbformat": 4
 },
 "nbformat": 4,
 "nbformat_minor": 2
}
