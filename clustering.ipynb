{
 "cells": [
  {
   "cell_type": "code",
   "execution_count": 1,
   "metadata": {},
   "outputs": [
    {
     "name": "stdout",
     "output_type": "stream",
     "text": [
      "   satisfaction_level  last_evaluation  number_project  average_montly_hours  \\\n",
      "0                0.38             0.53               2                   157   \n",
      "1                0.80             0.86               5                   262   \n",
      "2                0.11             0.88               7                   272   \n",
      "3                0.72             0.87               5                   223   \n",
      "4                0.37             0.52               2                   159   \n",
      "\n",
      "   time_spend_company  Work_accident  left  promotion_last_5years  sales  \\\n",
      "0                   3              0     1                      0  sales   \n",
      "1                   6              0     1                      0  sales   \n",
      "2                   4              0     1                      0  sales   \n",
      "3                   5              0     1                      0  sales   \n",
      "4                   3              0     1                      0  sales   \n",
      "\n",
      "   salary  \n",
      "0     low  \n",
      "1  medium  \n",
      "2  medium  \n",
      "3     low  \n",
      "4     low  \n"
     ]
    }
   ],
   "source": [
    "import pandas as pd\n",
    "\n",
    "dataset = pd.read_csv('HR.csv')\n",
    "\n",
    "print(dataset.head())"
   ]
  },
  {
   "cell_type": "code",
   "execution_count": 2,
   "metadata": {},
   "outputs": [],
   "source": [
    "from sklearn.preprocessing import LabelEncoder\n",
    "\n",
    "sales_encoder = LabelEncoder()\n",
    "salary_encoder = LabelEncoder()\n",
    "\n",
    "dataset['sales'] = sales_encoder.fit_transform(dataset['sales'])\n",
    "dataset['salary'] = salary_encoder.fit_transform(dataset['salary'])\n"
   ]
  },
  {
   "cell_type": "code",
   "execution_count": 3,
   "metadata": {},
   "outputs": [
    {
     "name": "stdout",
     "output_type": "stream",
     "text": [
      "   satisfaction_level  last_evaluation  number_project  average_montly_hours  \\\n",
      "0            0.318681         0.265625             0.0              0.285047   \n",
      "1            0.780220         0.781250             0.6              0.775701   \n",
      "2            0.021978         0.812500             1.0              0.822430   \n",
      "3            0.692308         0.796875             0.6              0.593458   \n",
      "4            0.307692         0.250000             0.0              0.294393   \n",
      "\n",
      "   time_spend_company  Work_accident  left  promotion_last_5years     sales  \\\n",
      "0               0.125            0.0   1.0                    0.0  0.777778   \n",
      "1               0.500            0.0   1.0                    0.0  0.777778   \n",
      "2               0.250            0.0   1.0                    0.0  0.777778   \n",
      "3               0.375            0.0   1.0                    0.0  0.777778   \n",
      "4               0.125            0.0   1.0                    0.0  0.777778   \n",
      "\n",
      "   salary  \n",
      "0       1  \n",
      "1       2  \n",
      "2       2  \n",
      "3       1  \n",
      "4       1  \n"
     ]
    }
   ],
   "source": [
    "from sklearn.preprocessing import MinMaxScaler\n",
    "\n",
    "scaler = MinMaxScaler()\n",
    "\n",
    "normalized_dataset = dataset.copy()\n",
    "normalized_dataset[normalized_dataset.drop(['salary'], axis=1).columns] = scaler.fit_transform(normalized_dataset[normalized_dataset.drop(['salary'], axis=1).columns])\n",
    "\n",
    "print(normalized_dataset.head())"
   ]
  },
  {
   "cell_type": "code",
   "execution_count": 4,
   "metadata": {},
   "outputs": [
    {
     "name": "stdout",
     "output_type": "stream",
     "text": [
      "       satisfaction_level  number_project  salary\n",
      "0                0.318681             0.0       1\n",
      "1                0.780220             0.6       2\n",
      "2                0.021978             1.0       2\n",
      "3                0.692308             0.6       1\n",
      "4                0.307692             0.0       1\n",
      "...                   ...             ...     ...\n",
      "14994            0.340659             0.0       1\n",
      "14995            0.307692             0.0       1\n",
      "14996            0.307692             0.0       1\n",
      "14997            0.021978             0.8       1\n",
      "14998            0.307692             0.0       1\n",
      "\n",
      "[14999 rows x 3 columns]\n"
     ]
    }
   ],
   "source": [
    "cluster_dataset = normalized_dataset.copy()\n",
    "cluster_dataset = cluster_dataset[['satisfaction_level', 'number_project', 'salary']]\n",
    "\n",
    "print(cluster_dataset)"
   ]
  },
  {
   "cell_type": "code",
   "execution_count": 5,
   "metadata": {},
   "outputs": [
    {
     "name": "stdout",
     "output_type": "stream",
     "text": [
      "Silhouette Score: 0.547\n",
      "Davies-Bouldin Index: 0.657\n",
      "Calinski-Harabasz Index: 19792.824\n"
     ]
    }
   ],
   "source": [
    "from sklearn.cluster import KMeans\n",
    "from sklearn.metrics import silhouette_score, davies_bouldin_score, calinski_harabasz_score\n",
    "\n",
    "kmeans = KMeans(n_clusters=4, random_state=42, max_iter=500)\n",
    "kmeans.fit(cluster_dataset)\n",
    "\n",
    "silhouette_avg = silhouette_score(cluster_dataset, kmeans.labels_)\n",
    "print(f\"Silhouette Score: {silhouette_avg:.3f}\")\n",
    "\n",
    "davies_bouldin = davies_bouldin_score(cluster_dataset, kmeans.labels_)\n",
    "print(f\"Davies-Bouldin Index: {davies_bouldin:.3f}\")\n",
    "\n",
    "calinski_harabasz = calinski_harabasz_score(cluster_dataset, kmeans.labels_)\n",
    "print(f\"Calinski-Harabasz Index: {calinski_harabasz:.3f}\")"
   ]
  },
  {
   "cell_type": "code",
   "execution_count": 6,
   "metadata": {},
   "outputs": [],
   "source": [
    "clustered_dataset = dataset.copy()\n",
    "clustered_dataset['cluster'] = kmeans.labels_"
   ]
  },
  {
   "cell_type": "code",
   "execution_count": 7,
   "metadata": {},
   "outputs": [
    {
     "name": "stdout",
     "output_type": "stream",
     "text": [
      "   cluster  left  count\n",
      "0        0     0   4588\n",
      "1        0     1   1579\n",
      "2        1     0   5129\n",
      "3        1     1   1317\n",
      "4        2     0   1155\n",
      "5        2     1     82\n",
      "6        3     1    593\n",
      "7        3     0    556\n"
     ]
    }
   ],
   "source": [
    "counts_per_cluster = clustered_dataset.groupby('cluster')['left'].value_counts()\n",
    "\n",
    "# Convert to DataFrame for easier readability\n",
    "counts_per_cluster_df = counts_per_cluster.reset_index(name='count')\n",
    "\n",
    "print(counts_per_cluster_df)"
   ]
  },
  {
   "cell_type": "code",
   "execution_count": 11,
   "metadata": {},
   "outputs": [
    {
     "name": "stdout",
     "output_type": "stream",
     "text": [
      "         satisfaction_level  last_evaluation  number_project  \\\n",
      "cluster                                                        \n",
      "0                  0.677623         0.704818        3.486622   \n",
      "1                  0.621817         0.717322        3.813528   \n",
      "2                  0.637470         0.704325        3.767179   \n",
      "3                  0.188172         0.782498        5.481288   \n",
      "\n",
      "         average_montly_hours  time_spend_company  Work_accident      left  \\\n",
      "cluster                                                                      \n",
      "0                  194.861359            3.321388       0.145289  0.256040   \n",
      "1                  201.338349            3.529010       0.145361  0.204313   \n",
      "2                  199.867421            3.692805       0.155214  0.066289   \n",
      "3                  233.926023            4.065274       0.125326  0.516101   \n",
      "\n",
      "         promotion_last_5years     sales  salary  \n",
      "cluster                                           \n",
      "0                     0.009891  5.955894     1.0  \n",
      "1                     0.028079  5.811356     2.0  \n",
      "2                     0.058205  5.547292     0.0  \n",
      "3                     0.004352  6.092254     1.0  \n"
     ]
    }
   ],
   "source": [
    "print(clustered_dataset.groupby('cluster').mean())"
   ]
  },
  {
   "cell_type": "code",
   "execution_count": 16,
   "metadata": {},
   "outputs": [
    {
     "name": "stdout",
     "output_type": "stream",
     "text": [
      "Cluster 0 saved to cluster_0.xlsx and cluster_0.csv.\n",
      "Cluster 1 saved to cluster_1.xlsx and cluster_1.csv.\n",
      "Cluster 2 saved to cluster_2.xlsx and cluster_2.csv.\n",
      "Cluster 3 saved to cluster_3.xlsx and cluster_3.csv.\n"
     ]
    }
   ],
   "source": [
    "# Assume clustered_dataset is already defined with the 'cluster' column\n",
    "# clustered_dataset['cluster'] = kmeans.labels_\n",
    "\n",
    "# Save each cluster into a separate DataFrame and export as Excel/CSV\n",
    "\n",
    "for cluster_id, cluster_data in clustered_dataset.groupby('cluster'):\n",
    "    # Create a DataFrame for the current cluster\n",
    "    cluster_df = cluster_data.reset_index(drop=True)  # Reset index for cleaner output\n",
    "    \n",
    "    \n",
    "    # Save to CSV (optional, if needed)\n",
    "    csv_filename = f'cluster_{cluster_id}.csv'\n",
    "    cluster_df.to_csv(csv_filename, index=False)\n",
    "    \n",
    "    print(f\"Cluster {cluster_id} saved to {excel_filename} and {csv_filename}.\")\n"
   ]
  }
 ],
 "metadata": {
  "kernelspec": {
   "display_name": "Python 3",
   "language": "python",
   "name": "python3"
  },
  "language_info": {
   "codemirror_mode": {
    "name": "ipython",
    "version": 3
   },
   "file_extension": ".py",
   "mimetype": "text/x-python",
   "name": "python",
   "nbconvert_exporter": "python",
   "pygments_lexer": "ipython3",
   "version": "3.10.0"
  },
  "orig_nbformat": 4
 },
 "nbformat": 4,
 "nbformat_minor": 2
}
